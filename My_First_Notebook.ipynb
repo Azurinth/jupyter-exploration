{
 "cells": [
  {
   "cell_type": "markdown",
   "id": "59d7e0a1-e0ed-4c89-b61f-e12235be5352",
   "metadata": {},
   "source": [
    "First Markdown Cell in Jupyter"
   ]
  },
  {
   "cell_type": "code",
   "execution_count": 2,
   "id": "d0a5aad0-9eb7-4c26-a7e4-7bca03a95a4d",
   "metadata": {},
   "outputs": [
    {
     "name": "stdout",
     "output_type": "stream",
     "text": [
      "Hello, World!\n"
     ]
    }
   ],
   "source": [
    "print(\"Hello, World!\")"
   ]
  }
 ],
 "metadata": {
  "kernelspec": {
   "display_name": "Python 3 (ipykernel)",
   "language": "python",
   "name": "python3"
  },
  "language_info": {
   "codemirror_mode": {
    "name": "ipython",
    "version": 3
   },
   "file_extension": ".py",
   "mimetype": "text/x-python",
   "name": "python",
   "nbconvert_exporter": "python",
   "pygments_lexer": "ipython3",
   "version": "3.12.4"
  }
 },
 "nbformat": 4,
 "nbformat_minor": 5
}
